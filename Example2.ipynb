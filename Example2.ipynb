{
  "nbformat": 4,
  "nbformat_minor": 0,
  "metadata": {
    "colab": {
      "provenance": [],
      "include_colab_link": true
    },
    "kernelspec": {
      "display_name": "Python 3",
      "language": "python",
      "name": "python3"
    },
    "language_info": {
      "codemirror_mode": {
        "name": "ipython",
        "version": 3
      },
      "file_extension": ".py",
      "mimetype": "text/x-python",
      "name": "python",
      "nbconvert_exporter": "python",
      "pygments_lexer": "ipython3",
      "version": "3.7.4"
    }
  },
  "cells": [
    {
      "cell_type": "markdown",
      "metadata": {
        "id": "view-in-github",
        "colab_type": "text"
      },
      "source": [
        "<a href=\"https://colab.research.google.com/github/tugcenaya/Python-Practices/blob/main/Example2.ipynb\" target=\"_parent\"><img src=\"https://colab.research.google.com/assets/colab-badge.svg\" alt=\"Open In Colab\"/></a>"
      ]
    },
    {
      "cell_type": "code",
      "metadata": {
        "id": "NGB3j3LcdcbR",
        "scrolled": true,
        "outputId": "0e918c86-4b77-4d7c-c10f-e1a972106d00",
        "colab": {
          "base_uri": "https://localhost:8080/",
          "height": 35
        }
      },
      "source": [
        "print(\"Hello World!\")"
      ],
      "execution_count": null,
      "outputs": [
        {
          "output_type": "stream",
          "text": [
            "Hello World!\n"
          ],
          "name": "stdout"
        }
      ]
    },
    {
      "cell_type": "code",
      "metadata": {
        "id": "luSgefSQgFrV",
        "outputId": "4877f177-6614-41be-a626-80cc01087900",
        "colab": {
          "base_uri": "https://localhost:8080/",
          "height": 35
        }
      },
      "source": [
        "print('Hello World')"
      ],
      "execution_count": null,
      "outputs": [
        {
          "output_type": "stream",
          "text": [
            "Hello World\n"
          ],
          "name": "stdout"
        }
      ]
    },
    {
      "cell_type": "code",
      "metadata": {
        "id": "g_52IrQIgcPv",
        "outputId": "8fd62e25-a0e8-453a-8b90-61795d3cbaf1",
        "colab": {
          "base_uri": "https://localhost:8080/",
          "height": 70
        }
      },
      "source": [
        "print(\"Hello1\")\n",
        "print(\"Hello2\")\n",
        "print(\"Hello3\")\n",
        "print(\"Welcome to Our Python course\")"
      ],
      "execution_count": null,
      "outputs": [
        {
          "output_type": "stream",
          "text": [
            "Hello1\n",
            "Hello2\n",
            "Hello3\n",
            "Welcome to Our Python course\n"
          ],
          "name": "stdout"
        }
      ]
    },
    {
      "cell_type": "code",
      "metadata": {
        "id": "2ualX2qpg3Hy",
        "outputId": "6f5bf215-4619-43b0-ca2a-35e7f275e02e",
        "colab": {
          "base_uri": "https://localhost:8080/",
          "height": 132
        }
      },
      "source": [
        "print \"Hello World\""
      ],
      "execution_count": null,
      "outputs": [
        {
          "output_type": "error",
          "ename": "SyntaxError",
          "evalue": "Missing parentheses in call to 'print'. Did you mean print(\"Hello World\")? (<ipython-input-9-2e860ebf713e>, line 1)",
          "traceback": [
            "\u001b[1;36m  File \u001b[1;32m\"<ipython-input-9-2e860ebf713e>\"\u001b[1;36m, line \u001b[1;32m1\u001b[0m\n\u001b[1;33m    print \"Hello World\"\u001b[0m\n\u001b[1;37m                      ^\u001b[0m\n\u001b[1;31mSyntaxError\u001b[0m\u001b[1;31m:\u001b[0m Missing parentheses in call to 'print'. Did you mean print(\"Hello World\")?\n"
          ]
        }
      ]
    },
    {
      "cell_type": "code",
      "metadata": {
        "id": "0BOHOWOdhcgp",
        "outputId": "10918476-5bf1-4d4e-e744-7ec1f4e31855",
        "colab": {
          "base_uri": "https://localhost:8080/",
          "height": 168
        }
      },
      "source": [
        "print(Hello)"
      ],
      "execution_count": null,
      "outputs": [
        {
          "output_type": "error",
          "ename": "NameError",
          "evalue": "name 'Hello' is not defined",
          "traceback": [
            "\u001b[1;31m---------------------------------------------------------------------------\u001b[0m",
            "\u001b[1;31mNameError\u001b[0m                                 Traceback (most recent call last)",
            "\u001b[1;32m<ipython-input-12-85bf5114fa6b>\u001b[0m in \u001b[0;36m<module>\u001b[1;34m\u001b[0m\n\u001b[1;32m----> 1\u001b[1;33m \u001b[0mprint\u001b[0m\u001b[1;33m(\u001b[0m\u001b[0mHello\u001b[0m\u001b[1;33m)\u001b[0m\u001b[1;33m\u001b[0m\u001b[1;33m\u001b[0m\u001b[0m\n\u001b[0m",
            "\u001b[1;31mNameError\u001b[0m: name 'Hello' is not defined"
          ]
        }
      ]
    },
    {
      "cell_type": "code",
      "metadata": {
        "id": "G69sCzFUhi5j",
        "outputId": "02a98d09-409c-4600-d1a5-a8d7a06c9f2c",
        "colab": {
          "base_uri": "https://localhost:8080/",
          "height": 132
        }
      },
      "source": [
        "print(\"Hello')"
      ],
      "execution_count": null,
      "outputs": [
        {
          "output_type": "error",
          "ename": "SyntaxError",
          "evalue": "EOL while scanning string literal (<ipython-input-15-21f0c5b97628>, line 1)",
          "traceback": [
            "\u001b[1;36m  File \u001b[1;32m\"<ipython-input-15-21f0c5b97628>\"\u001b[1;36m, line \u001b[1;32m1\u001b[0m\n\u001b[1;33m    print(\"Hello')\u001b[0m\n\u001b[1;37m                  ^\u001b[0m\n\u001b[1;31mSyntaxError\u001b[0m\u001b[1;31m:\u001b[0m EOL while scanning string literal\n"
          ]
        }
      ]
    },
    {
      "cell_type": "code",
      "metadata": {
        "id": "JsFmw9IuFSKR"
      },
      "source": [
        "#taking some notes\n",
        "#taking some notes\n",
        "#take a note"
      ],
      "execution_count": null,
      "outputs": []
    },
    {
      "cell_type": "code",
      "metadata": {
        "id": "llzXRK61FadN",
        "outputId": "7b157362-c31b-4839-cd27-50d423de9f20"
      },
      "source": [
        "\"\"\"\n",
        "taking some notes multiple lines\n",
        "\"\"\"\n",
        "\n",
        "'''\n",
        "aefdfhd\n",
        "asgfsfjdgm\n",
        "zfhdfhjgjm\n",
        "sgrsfgjdgjm\n",
        "'''\n",
        "\n",
        "\"\"\"\n",
        "write something\n",
        "\"\"\""
      ],
      "execution_count": null,
      "outputs": [
        {
          "output_type": "execute_result",
          "data": {
            "text/plain": [
              "'\\nwrite something\\n'"
            ]
          },
          "metadata": {
            "tags": []
          },
          "execution_count": 19
        }
      ]
    },
    {
      "cell_type": "markdown",
      "metadata": {
        "id": "UpftepKehvXQ"
      },
      "source": [
        "# Section1\n",
        "###taking some notes\n",
        "dfgsfxjcgkj\n",
        "\n",
        "sfdtxhfcgk\n",
        "\n",
        "**print(\"hello\")**"
      ]
    },
    {
      "cell_type": "markdown",
      "metadata": {
        "id": "1a4M1ZaayodY"
      },
      "source": [
        "#### Type of section\n",
        "#Başlık küçültmek için bunu kullanabilirsiniz."
      ]
    },
    {
      "cell_type": "markdown",
      "metadata": {
        "id": "Krc5HwdxkFvT"
      },
      "source": [
        "# Section2\n",
        "\n",
        "## Declaring Variables\n",
        "\n",
        "variable = value\n",
        "\n",
        "n = 1"
      ]
    },
    {
      "cell_type": "code",
      "metadata": {
        "id": "Sb178VuUloLP",
        "outputId": "4ff3c033-afd1-405c-c315-e7274a62f8d1"
      },
      "source": [
        "n = 1\n",
        "print(n)"
      ],
      "execution_count": null,
      "outputs": [
        {
          "output_type": "stream",
          "text": [
            "1\n"
          ],
          "name": "stdout"
        }
      ]
    },
    {
      "cell_type": "code",
      "metadata": {
        "id": "Pi9_2kaXmiOz",
        "outputId": "99a6c8f6-6428-4b0f-f767-498908817c64"
      },
      "source": [
        "print(n)"
      ],
      "execution_count": null,
      "outputs": [
        {
          "output_type": "stream",
          "text": [
            "1\n"
          ],
          "name": "stdout"
        }
      ]
    },
    {
      "cell_type": "code",
      "metadata": {
        "id": "2QsfXllKmncM"
      },
      "source": [
        "n = 5"
      ],
      "execution_count": null,
      "outputs": []
    },
    {
      "cell_type": "code",
      "metadata": {
        "id": "iDcjeHBQmqYX",
        "outputId": "ac8e4ebf-7e51-4d23-cce5-14538efbd3e1"
      },
      "source": [
        "print(n)"
      ],
      "execution_count": null,
      "outputs": [
        {
          "output_type": "stream",
          "text": [
            "5\n"
          ],
          "name": "stdout"
        }
      ]
    },
    {
      "cell_type": "code",
      "metadata": {
        "id": "18yuPbb5m9GG",
        "outputId": "4b827c2b-47f9-48b1-b8b4-20fab4ae436b"
      },
      "source": [
        "p = n\n",
        "print(p)"
      ],
      "execution_count": null,
      "outputs": [
        {
          "output_type": "stream",
          "text": [
            "5\n"
          ],
          "name": "stdout"
        }
      ]
    },
    {
      "cell_type": "code",
      "metadata": {
        "id": "GO6WONnhnVjB"
      },
      "source": [
        "hello = \"World\""
      ],
      "execution_count": null,
      "outputs": []
    },
    {
      "cell_type": "code",
      "metadata": {
        "id": "2YZLBCcinyfx",
        "outputId": "19edba8d-9a29-467f-81da-ca260d02b251"
      },
      "source": [
        "print(hello) #print variable\n",
        "print(\"World\") #print value\n",
        "print(n)"
      ],
      "execution_count": null,
      "outputs": [
        {
          "output_type": "stream",
          "text": [
            "World\n",
            "World\n",
            "5\n"
          ],
          "name": "stdout"
        }
      ]
    },
    {
      "cell_type": "code",
      "metadata": {
        "id": "YU91q9FQyod3",
        "outputId": "1429784a-fb7a-4048-c4df-a340f6c2e4d7"
      },
      "source": [
        "type(hello)"
      ],
      "execution_count": null,
      "outputs": [
        {
          "output_type": "execute_result",
          "data": {
            "text/plain": [
              "str"
            ]
          },
          "metadata": {
            "tags": []
          },
          "execution_count": 48
        }
      ]
    },
    {
      "cell_type": "code",
      "metadata": {
        "id": "letAfxW_oHH-",
        "outputId": "f68e6d62-7759-4274-e3bf-63728765ac64"
      },
      "source": [
        "print(type(hello)) #print data type"
      ],
      "execution_count": null,
      "outputs": [
        {
          "output_type": "stream",
          "text": [
            "<class 'str'>\n"
          ],
          "name": "stdout"
        }
      ]
    },
    {
      "cell_type": "code",
      "metadata": {
        "id": "0h0O_ojVyod-",
        "outputId": "ef6e151e-88de-4db1-906a-5598d301eca0"
      },
      "source": [
        "p"
      ],
      "execution_count": null,
      "outputs": [
        {
          "output_type": "execute_result",
          "data": {
            "text/plain": [
              "5"
            ]
          },
          "metadata": {
            "tags": []
          },
          "execution_count": 53
        }
      ]
    },
    {
      "cell_type": "code",
      "metadata": {
        "id": "lQcQh8oMomlP",
        "outputId": "7750c289-eee9-4981-e7ee-4220411109e3"
      },
      "source": [
        "print(type(p))"
      ],
      "execution_count": null,
      "outputs": [
        {
          "output_type": "stream",
          "text": [
            "<class 'int'>\n"
          ],
          "name": "stdout"
        }
      ]
    },
    {
      "cell_type": "code",
      "metadata": {
        "id": "FMM4y1JXMjsL",
        "outputId": "77b71353-fcd2-4af6-8a8d-37a963fcbd5f"
      },
      "source": [
        "t = 3.19\n",
        "print(type(t))"
      ],
      "execution_count": null,
      "outputs": [
        {
          "output_type": "stream",
          "text": [
            "<class 'float'>\n"
          ],
          "name": "stdout"
        }
      ]
    },
    {
      "cell_type": "code",
      "metadata": {
        "id": "vbd-SuNzyoeO",
        "outputId": "0ba8fa6f-7597-4ad1-e76c-94390da2e687"
      },
      "source": [
        "type('x')"
      ],
      "execution_count": null,
      "outputs": [
        {
          "output_type": "execute_result",
          "data": {
            "text/plain": [
              "str"
            ]
          },
          "metadata": {
            "tags": []
          },
          "execution_count": 58
        }
      ]
    },
    {
      "cell_type": "code",
      "metadata": {
        "id": "DL6Hr_fgyoeT",
        "outputId": "8a14a767-7d1b-46bd-fee4-1abb21d4d91b"
      },
      "source": [
        "#swapping\n",
        "data1 = 7\n",
        "data2 = 12\n",
        "data3 = 23\n",
        "data4 = 33\n",
        "\n",
        "data1, data2, data3 , data4 = data2 , data1, data4, data3\n",
        "print(data1, data2, data3, data4)"
      ],
      "execution_count": null,
      "outputs": [
        {
          "output_type": "stream",
          "text": [
            "12 7 33 23\n"
          ],
          "name": "stdout"
        }
      ]
    },
    {
      "cell_type": "code",
      "metadata": {
        "id": "pvczFh77yoeZ",
        "outputId": "f03ee73e-d084-48dd-b31b-d4320e0ef385"
      },
      "source": [
        "print(\"data1:\", data1, \"data:\", data2)"
      ],
      "execution_count": null,
      "outputs": [
        {
          "output_type": "stream",
          "text": [
            "data1: 12 data: 7\n"
          ],
          "name": "stdout"
        }
      ]
    },
    {
      "cell_type": "code",
      "metadata": {
        "id": "7DtsrxEHyHUH",
        "outputId": "2f558888-2a2b-492e-bdab-894d272c632f"
      },
      "source": [
        "t, f = True, False\n",
        "print(type(t))\n",
        "print(t)\n",
        "print(f)"
      ],
      "execution_count": null,
      "outputs": [
        {
          "output_type": "stream",
          "text": [
            "<class 'bool'>\n",
            "True\n",
            "False\n"
          ],
          "name": "stdout"
        }
      ]
    },
    {
      "cell_type": "code",
      "metadata": {
        "id": "u70Y8J0wyoej",
        "outputId": "5ddeacdb-b301-47f5-a361-0a453f1542a9",
        "colab": {
          "base_uri": "https://localhost:8080/"
        }
      },
      "source": [
        "#length ifadesi bir string değerin uzunluğunu bulmamıza yarar.\n",
        "len(\"hello\")"
      ],
      "execution_count": 2,
      "outputs": [
        {
          "output_type": "execute_result",
          "data": {
            "text/plain": [
              "5"
            ]
          },
          "metadata": {},
          "execution_count": 2
        }
      ]
    },
    {
      "cell_type": "code",
      "metadata": {
        "id": "A_RXDDdQyoeo",
        "outputId": "9244d08a-56d3-4e5f-c68f-835d2e122aa4",
        "colab": {
          "base_uri": "https://localhost:8080/"
        }
      },
      "source": [
        "len(\"Hello everybody\")"
      ],
      "execution_count": 3,
      "outputs": [
        {
          "output_type": "execute_result",
          "data": {
            "text/plain": [
              "15"
            ]
          },
          "metadata": {},
          "execution_count": 3
        }
      ]
    },
    {
      "cell_type": "code",
      "metadata": {
        "id": "RJjmk_yvyoes",
        "outputId": "145309dc-72c4-4089-d699-8d84e394e4d5"
      },
      "source": [
        "hello"
      ],
      "execution_count": null,
      "outputs": [
        {
          "output_type": "execute_result",
          "data": {
            "text/plain": [
              "'World'"
            ]
          },
          "metadata": {
            "tags": []
          },
          "execution_count": 71
        }
      ]
    },
    {
      "cell_type": "code",
      "metadata": {
        "id": "UleuXLMVwCgG",
        "outputId": "5785ae70-d4b9-4a85-8f04-0bad9c2d948c"
      },
      "source": [
        "print(len(hello)) #print data lenght"
      ],
      "execution_count": null,
      "outputs": [
        {
          "output_type": "stream",
          "text": [
            "5\n"
          ],
          "name": "stdout"
        }
      ]
    },
    {
      "cell_type": "code",
      "metadata": {
        "id": "sze-nBmqyoew",
        "outputId": "de7e2328-60b8-43a7-af6b-eaf6ca4bc622"
      },
      "source": [
        "p"
      ],
      "execution_count": null,
      "outputs": [
        {
          "output_type": "execute_result",
          "data": {
            "text/plain": [
              "5"
            ]
          },
          "metadata": {
            "tags": []
          },
          "execution_count": 74
        }
      ]
    },
    {
      "cell_type": "code",
      "metadata": {
        "id": "T7x_GUwvwKcS",
        "outputId": "ad0a634b-a47f-4f9b-9e17-a64a771e842d"
      },
      "source": [
        "print(len(p))"
      ],
      "execution_count": null,
      "outputs": [
        {
          "output_type": "error",
          "ename": "TypeError",
          "evalue": "object of type 'int' has no len()",
          "traceback": [
            "\u001b[1;31m---------------------------------------------------------------------------\u001b[0m",
            "\u001b[1;31mTypeError\u001b[0m                                 Traceback (most recent call last)",
            "\u001b[1;32m<ipython-input-75-2dc0251e7965>\u001b[0m in \u001b[0;36m<module>\u001b[1;34m\u001b[0m\n\u001b[1;32m----> 1\u001b[1;33m \u001b[0mprint\u001b[0m\u001b[1;33m(\u001b[0m\u001b[0mlen\u001b[0m\u001b[1;33m(\u001b[0m\u001b[0mp\u001b[0m\u001b[1;33m)\u001b[0m\u001b[1;33m)\u001b[0m\u001b[1;33m\u001b[0m\u001b[1;33m\u001b[0m\u001b[0m\n\u001b[0m",
            "\u001b[1;31mTypeError\u001b[0m: object of type 'int' has no len()"
          ]
        }
      ]
    },
    {
      "cell_type": "code",
      "metadata": {
        "id": "PXrktEiiyoe1",
        "outputId": "8ec1fdd8-fa0e-4c40-eeae-1615b8e27818"
      },
      "source": [
        "len(5)"
      ],
      "execution_count": null,
      "outputs": [
        {
          "output_type": "error",
          "ename": "TypeError",
          "evalue": "object of type 'int' has no len()",
          "traceback": [
            "\u001b[1;31m---------------------------------------------------------------------------\u001b[0m",
            "\u001b[1;31mTypeError\u001b[0m                                 Traceback (most recent call last)",
            "\u001b[1;32m<ipython-input-78-91fed648bb37>\u001b[0m in \u001b[0;36m<module>\u001b[1;34m\u001b[0m\n\u001b[1;32m----> 1\u001b[1;33m \u001b[0mlen\u001b[0m\u001b[1;33m(\u001b[0m\u001b[1;36m5\u001b[0m\u001b[1;33m)\u001b[0m\u001b[1;33m\u001b[0m\u001b[1;33m\u001b[0m\u001b[0m\n\u001b[0m",
            "\u001b[1;31mTypeError\u001b[0m: object of type 'int' has no len()"
          ]
        }
      ]
    },
    {
      "cell_type": "code",
      "metadata": {
        "id": "IFZdGN2ryoe3",
        "outputId": "5c107f70-443e-4dc3-f089-207310df0f56"
      },
      "source": [
        "len(15.6)"
      ],
      "execution_count": null,
      "outputs": [
        {
          "output_type": "error",
          "ename": "TypeError",
          "evalue": "object of type 'float' has no len()",
          "traceback": [
            "\u001b[1;31m---------------------------------------------------------------------------\u001b[0m",
            "\u001b[1;31mTypeError\u001b[0m                                 Traceback (most recent call last)",
            "\u001b[1;32m<ipython-input-79-79577706af1a>\u001b[0m in \u001b[0;36m<module>\u001b[1;34m\u001b[0m\n\u001b[1;32m----> 1\u001b[1;33m \u001b[0mlen\u001b[0m\u001b[1;33m(\u001b[0m\u001b[1;36m15.6\u001b[0m\u001b[1;33m)\u001b[0m\u001b[1;33m\u001b[0m\u001b[1;33m\u001b[0m\u001b[0m\n\u001b[0m",
            "\u001b[1;31mTypeError\u001b[0m: object of type 'float' has no len()"
          ]
        }
      ]
    },
    {
      "cell_type": "code",
      "metadata": {
        "id": "aQYPTGFoyoe6",
        "outputId": "624fc69f-65a3-444e-f784-6a26b73d07d1"
      },
      "source": [
        "data22 = \"Data Science\"\n",
        "len(data22)"
      ],
      "execution_count": null,
      "outputs": [
        {
          "output_type": "execute_result",
          "data": {
            "text/plain": [
              "12"
            ]
          },
          "metadata": {
            "tags": []
          },
          "execution_count": 82
        }
      ]
    },
    {
      "cell_type": "code",
      "metadata": {
        "id": "N7G8LXCnyoe8",
        "outputId": "8669d8bd-bf64-449e-a229-9806617db7ed"
      },
      "source": [
        "len(\"Data Science\")"
      ],
      "execution_count": null,
      "outputs": [
        {
          "output_type": "execute_result",
          "data": {
            "text/plain": [
              "12"
            ]
          },
          "metadata": {
            "tags": []
          },
          "execution_count": 83
        }
      ]
    },
    {
      "cell_type": "code",
      "metadata": {
        "id": "gA4X0D-syoe-",
        "outputId": "e0b2dcb4-904c-4654-a77b-356c520f2480"
      },
      "source": [
        "a = 15\n",
        "b = 23\n",
        "\n",
        "a, b = b, a\n",
        "print(a)\n",
        "print(b)"
      ],
      "execution_count": null,
      "outputs": [
        {
          "output_type": "stream",
          "text": [
            "23\n",
            "15\n"
          ],
          "name": "stdout"
        }
      ]
    },
    {
      "cell_type": "code",
      "metadata": {
        "id": "HIzXaEKIyofC",
        "outputId": "cee2b539-f5f0-4284-80e4-0a276fa6a6ab"
      },
      "source": [
        "name = \"Asli\"\n",
        "print(f'hello {name}') #F-string"
      ],
      "execution_count": null,
      "outputs": [
        {
          "output_type": "stream",
          "text": [
            "hello Asli\n"
          ],
          "name": "stdout"
        }
      ]
    },
    {
      "cell_type": "code",
      "metadata": {
        "id": "iiR6YywDyofE",
        "outputId": "b4fab580-a3f5-4928-99dc-296d53b68cb2"
      },
      "source": [
        "print(\"Hello\", name)"
      ],
      "execution_count": null,
      "outputs": [
        {
          "output_type": "stream",
          "text": [
            "Hello Asli\n"
          ],
          "name": "stdout"
        }
      ]
    },
    {
      "cell_type": "code",
      "metadata": {
        "id": "F8IA9zBPyofG",
        "outputId": "ba28e8d0-8e52-411b-fa8f-32a297fcc181"
      },
      "source": [
        "name2 = \"Aslı\"\n",
        "print(\"Hello {}\".format(name2))"
      ],
      "execution_count": null,
      "outputs": [
        {
          "output_type": "stream",
          "text": [
            "Hello Aslı\n"
          ],
          "name": "stdout"
        }
      ]
    },
    {
      "cell_type": "code",
      "metadata": {
        "id": "qYhtvf9ZyofJ",
        "outputId": "a67554df-3d39-4ba4-f359-0f0674df0001"
      },
      "source": [
        "data12 = 5\n",
        "data13 = 90\n",
        "print(\"My value:{} and Your value:{}\".format(data12, data13))"
      ],
      "execution_count": null,
      "outputs": [
        {
          "output_type": "stream",
          "text": [
            "My value:5 and Your value:90\n"
          ],
          "name": "stdout"
        }
      ]
    },
    {
      "cell_type": "code",
      "metadata": {
        "id": "ZcpIaorPyofK",
        "outputId": "ef5625bd-84b7-40dc-a599-097db7d969b2"
      },
      "source": [
        "print(f'My value: {data12} and your value: {data13}')"
      ],
      "execution_count": null,
      "outputs": [
        {
          "output_type": "stream",
          "text": [
            "My value: 5 and your value: 90\n"
          ],
          "name": "stdout"
        }
      ]
    },
    {
      "cell_type": "code",
      "metadata": {
        "id": "u0cc0OsYyofN",
        "outputId": "5d392cd5-c684-4f4d-f996-00e60494d8a8"
      },
      "source": [
        "print(\"My value:\" + str(data12) + \"Your Value:\" + str(data13))"
      ],
      "execution_count": null,
      "outputs": [
        {
          "output_type": "stream",
          "text": [
            "My value:5Your Value:90\n"
          ],
          "name": "stdout"
        }
      ]
    },
    {
      "cell_type": "markdown",
      "metadata": {
        "id": "rOEAqInQGFVu"
      },
      "source": [
        "## Aritmetic Operations"
      ]
    },
    {
      "cell_type": "code",
      "metadata": {
        "id": "OQzlT59exPuY",
        "outputId": "9fe3c695-0d6a-481d-e010-ad315e938a96"
      },
      "source": [
        "5**2"
      ],
      "execution_count": null,
      "outputs": [
        {
          "output_type": "execute_result",
          "data": {
            "text/plain": [
              "25"
            ]
          },
          "metadata": {
            "tags": []
          },
          "execution_count": 99
        }
      ]
    },
    {
      "cell_type": "code",
      "metadata": {
        "id": "tn1-lexgyofU",
        "outputId": "f19187dc-8101-4e44-b827-e158edd562e0"
      },
      "source": [
        "5**3"
      ],
      "execution_count": null,
      "outputs": [
        {
          "output_type": "execute_result",
          "data": {
            "text/plain": [
              "125"
            ]
          },
          "metadata": {
            "tags": []
          },
          "execution_count": 100
        }
      ]
    },
    {
      "cell_type": "code",
      "metadata": {
        "id": "IT5uTIgBGRIz",
        "outputId": "23a65f28-4dec-4083-af24-c9a695d3943e"
      },
      "source": [
        "35+67"
      ],
      "execution_count": null,
      "outputs": [
        {
          "output_type": "execute_result",
          "data": {
            "text/plain": [
              "102"
            ]
          },
          "metadata": {
            "tags": []
          },
          "execution_count": 101
        }
      ]
    },
    {
      "cell_type": "code",
      "metadata": {
        "id": "UIwXGkZqGVId",
        "outputId": "7837e17e-333d-4be5-f92b-853bce61a337"
      },
      "source": [
        "\"35\"+\"67\""
      ],
      "execution_count": null,
      "outputs": [
        {
          "output_type": "execute_result",
          "data": {
            "text/plain": [
              "'3567'"
            ]
          },
          "metadata": {
            "tags": []
          },
          "execution_count": 102
        }
      ]
    },
    {
      "cell_type": "code",
      "metadata": {
        "id": "3oeBRnUByofc",
        "outputId": "79d561db-9e72-45ed-dbed-c1902bf46b9f",
        "colab": {
          "base_uri": "https://localhost:8080/",
          "height": 36
        }
      },
      "source": [
        "\"Hello\" + \"World\""
      ],
      "execution_count": 4,
      "outputs": [
        {
          "output_type": "execute_result",
          "data": {
            "text/plain": [
              "'HelloWorld'"
            ],
            "application/vnd.google.colaboratory.intrinsic+json": {
              "type": "string"
            }
          },
          "metadata": {},
          "execution_count": 4
        }
      ]
    },
    {
      "cell_type": "code",
      "metadata": {
        "id": "Qx0vjBUmGZNk",
        "outputId": "18c7f8ae-8095-4692-e703-6609cc43888c"
      },
      "source": [
        "\"35\" + 67"
      ],
      "execution_count": null,
      "outputs": [
        {
          "output_type": "error",
          "ename": "TypeError",
          "evalue": "can only concatenate str (not \"int\") to str",
          "traceback": [
            "\u001b[1;31m---------------------------------------------------------------------------\u001b[0m",
            "\u001b[1;31mTypeError\u001b[0m                                 Traceback (most recent call last)",
            "\u001b[1;32m<ipython-input-104-bb64d695b9f6>\u001b[0m in \u001b[0;36m<module>\u001b[1;34m\u001b[0m\n\u001b[1;32m----> 1\u001b[1;33m \u001b[1;34m\"35\"\u001b[0m \u001b[1;33m+\u001b[0m \u001b[1;36m67\u001b[0m\u001b[1;33m\u001b[0m\u001b[1;33m\u001b[0m\u001b[0m\n\u001b[0m",
            "\u001b[1;31mTypeError\u001b[0m: can only concatenate str (not \"int\") to str"
          ]
        }
      ]
    },
    {
      "cell_type": "code",
      "metadata": {
        "id": "_EzMFsTMGbw5",
        "outputId": "f28fc9c6-e46c-40e3-ca00-a2460c378065"
      },
      "source": [
        "\"35\"*3"
      ],
      "execution_count": null,
      "outputs": [
        {
          "output_type": "execute_result",
          "data": {
            "text/plain": [
              "'353535'"
            ]
          },
          "metadata": {
            "tags": []
          },
          "execution_count": 105
        }
      ]
    },
    {
      "cell_type": "code",
      "metadata": {
        "id": "X_FiEHA9GlUH",
        "outputId": "ee9a8e8c-bc15-4a3e-e07a-e86dd77b08e6"
      },
      "source": [
        "\"hello\"*4"
      ],
      "execution_count": null,
      "outputs": [
        {
          "output_type": "execute_result",
          "data": {
            "text/plain": [
              "'hellohellohellohello'"
            ]
          },
          "metadata": {
            "tags": []
          },
          "execution_count": 106
        }
      ]
    },
    {
      "cell_type": "code",
      "metadata": {
        "id": "LukuchkFyofk",
        "outputId": "d5329b70-f9e8-4406-fc95-3a281f49244c"
      },
      "source": [
        "\"hello\" \"world\""
      ],
      "execution_count": null,
      "outputs": [
        {
          "output_type": "execute_result",
          "data": {
            "text/plain": [
              "'helloworld'"
            ]
          },
          "metadata": {
            "tags": []
          },
          "execution_count": 107
        }
      ]
    },
    {
      "cell_type": "code",
      "metadata": {
        "id": "qCIBU4v8HH3Y",
        "outputId": "c7f22af4-b5db-4b7b-bec1-fa53491e7c69"
      },
      "source": [
        "x = 10\n",
        "\n",
        "print(x+2)\n",
        "print(x-2)\n",
        "print(x*2)\n",
        "print(x**2)\n",
        "print(x**4)\n",
        "print(x/2)\n",
        "print(x//2)\n",
        "print(x%2)"
      ],
      "execution_count": null,
      "outputs": [
        {
          "output_type": "stream",
          "text": [
            "12\n",
            "8\n",
            "20\n",
            "100\n",
            "10000\n",
            "5.0\n",
            "5\n",
            "0\n"
          ],
          "name": "stdout"
        }
      ]
    },
    {
      "cell_type": "code",
      "metadata": {
        "id": "imzLVXBYLNhW",
        "outputId": "28847fd5-4cc5-4b5f-aef2-036b646c76e6"
      },
      "source": [
        "y = 13\n",
        "print(y//2)\n",
        "print(y%2)"
      ],
      "execution_count": null,
      "outputs": [
        {
          "output_type": "stream",
          "text": [
            "6\n",
            "1\n"
          ],
          "name": "stdout"
        }
      ]
    },
    {
      "cell_type": "code",
      "metadata": {
        "id": "21xH-WU1LhkS",
        "outputId": "da112ea8-536f-42e5-c30e-2a8c294835b6"
      },
      "source": [
        "z = 5\n",
        "z+=1 # this statement equals to z= z+1 , meaning while the previous value of z is 5, the new z value becomes 6.\n",
        "z"
      ],
      "execution_count": null,
      "outputs": [
        {
          "output_type": "execute_result",
          "data": {
            "text/plain": [
              "6"
            ]
          },
          "metadata": {
            "tags": []
          },
          "execution_count": 124
        }
      ]
    },
    {
      "cell_type": "code",
      "metadata": {
        "id": "xdhddh3Tyofu",
        "outputId": "3ecd7dbd-cec4-492d-a049-9f1844825e69"
      },
      "source": [
        "z +=2\n",
        "z"
      ],
      "execution_count": null,
      "outputs": [
        {
          "output_type": "execute_result",
          "data": {
            "text/plain": [
              "12"
            ]
          },
          "metadata": {
            "tags": []
          },
          "execution_count": 127
        }
      ]
    },
    {
      "cell_type": "code",
      "metadata": {
        "id": "2HOE_xOGL3WQ",
        "outputId": "906ffcca-ac31-4a98-adbf-84037b99031f"
      },
      "source": [
        "z*=2      #z=z*2\n",
        "z"
      ],
      "execution_count": null,
      "outputs": [
        {
          "output_type": "execute_result",
          "data": {
            "text/plain": [
              "192"
            ]
          },
          "metadata": {
            "tags": []
          },
          "execution_count": 78
        }
      ]
    }
  ]
}