{
  "nbformat": 4,
  "nbformat_minor": 0,
  "metadata": {
    "colab": {
      "provenance": [],
      "include_colab_link": true
    },
    "kernelspec": {
      "name": "python3",
      "display_name": "Python 3"
    },
    "language_info": {
      "name": "python"
    }
  },
  "cells": [
    {
      "cell_type": "markdown",
      "metadata": {
        "id": "view-in-github",
        "colab_type": "text"
      },
      "source": [
        "<a href=\"https://colab.research.google.com/github/tugcenaya/Python-Practices/blob/main/Example1.ipynb\" target=\"_parent\"><img src=\"https://colab.research.google.com/assets/colab-badge.svg\" alt=\"Open In Colab\"/></a>"
      ]
    },
    {
      "cell_type": "code",
      "execution_count": null,
      "metadata": {
        "colab": {
          "base_uri": "https://localhost:8080/"
        },
        "id": "g2cEVAOclX7c",
        "outputId": "e6cb921a-c99f-4d2d-dbef-fb779de0179b"
      },
      "outputs": [
        {
          "output_type": "execute_result",
          "data": {
            "text/plain": [
              "True"
            ]
          },
          "metadata": {},
          "execution_count": 1
        }
      ],
      "source": [
        "1<2"
      ]
    },
    {
      "cell_type": "code",
      "source": [
        "a = 5"
      ],
      "metadata": {
        "id": "If7yTN8TltY_"
      },
      "execution_count": null,
      "outputs": []
    },
    {
      "cell_type": "code",
      "source": [
        "a"
      ],
      "metadata": {
        "colab": {
          "base_uri": "https://localhost:8080/"
        },
        "id": "I2qhkjSalvVn",
        "outputId": "8362ba27-d0b4-47eb-ad42-70f7f64b0239"
      },
      "execution_count": null,
      "outputs": [
        {
          "output_type": "execute_result",
          "data": {
            "text/plain": [
              "5"
            ]
          },
          "metadata": {},
          "execution_count": 3
        }
      ]
    },
    {
      "cell_type": "code",
      "source": [
        "type(a)"
      ],
      "metadata": {
        "colab": {
          "base_uri": "https://localhost:8080/"
        },
        "id": "ObSVgdJWlv8m",
        "outputId": "9668720a-1ee7-493b-e20f-f60e385653c6"
      },
      "execution_count": null,
      "outputs": [
        {
          "output_type": "execute_result",
          "data": {
            "text/plain": [
              "int"
            ]
          },
          "metadata": {},
          "execution_count": 4
        }
      ]
    },
    {
      "cell_type": "code",
      "source": [
        "\"sdfklsjdf \""
      ],
      "metadata": {
        "colab": {
          "base_uri": "https://localhost:8080/",
          "height": 37
        },
        "id": "ecZb1OjOlxzO",
        "outputId": "1ac59110-6460-4cf3-84aa-01577649344a"
      },
      "execution_count": null,
      "outputs": [
        {
          "output_type": "execute_result",
          "data": {
            "text/plain": [
              "'sdfklsjdf '"
            ],
            "application/vnd.google.colaboratory.intrinsic+json": {
              "type": "string"
            }
          },
          "metadata": {},
          "execution_count": 5
        }
      ]
    },
    {
      "cell_type": "code",
      "source": [
        "c = 1<2"
      ],
      "metadata": {
        "id": "ZBCrrs49l7Gz"
      },
      "execution_count": null,
      "outputs": []
    },
    {
      "cell_type": "code",
      "source": [
        "type(c)"
      ],
      "metadata": {
        "colab": {
          "base_uri": "https://localhost:8080/"
        },
        "id": "HX0hHbBel_4k",
        "outputId": "ce82f9af-1e4e-4a49-cb2c-3c4db491c0b0"
      },
      "execution_count": null,
      "outputs": [
        {
          "output_type": "execute_result",
          "data": {
            "text/plain": [
              "bool"
            ]
          },
          "metadata": {},
          "execution_count": 8
        }
      ]
    },
    {
      "cell_type": "code",
      "source": [
        "2>3"
      ],
      "metadata": {
        "colab": {
          "base_uri": "https://localhost:8080/"
        },
        "id": "iDU1RYFKmHGP",
        "outputId": "bed49d43-cc3c-42c8-c1b6-7d8865aca427"
      },
      "execution_count": null,
      "outputs": [
        {
          "output_type": "execute_result",
          "data": {
            "text/plain": [
              "False"
            ]
          },
          "metadata": {},
          "execution_count": 9
        }
      ]
    },
    {
      "cell_type": "code",
      "source": [
        "5=6"
      ],
      "metadata": {
        "colab": {
          "base_uri": "https://localhost:8080/",
          "height": 130
        },
        "id": "BmMKHcjSmJ3V",
        "outputId": "b590f6d1-9517-44ee-c72f-ab85eff997ed"
      },
      "execution_count": null,
      "outputs": [
        {
          "output_type": "error",
          "ename": "SyntaxError",
          "evalue": "ignored",
          "traceback": [
            "\u001b[0;36m  File \u001b[0;32m\"<ipython-input-10-12d358747e5a>\"\u001b[0;36m, line \u001b[0;32m1\u001b[0m\n\u001b[0;31m    5=6\u001b[0m\n\u001b[0m    ^\u001b[0m\n\u001b[0;31mSyntaxError\u001b[0m\u001b[0;31m:\u001b[0m cannot assign to literal\n"
          ]
        }
      ]
    },
    {
      "cell_type": "code",
      "source": [
        "5==6"
      ],
      "metadata": {
        "colab": {
          "base_uri": "https://localhost:8080/"
        },
        "id": "wd5KqgNZmL4U",
        "outputId": "346cba22-d00e-45d1-d5f3-f8188ca7b067"
      },
      "execution_count": null,
      "outputs": [
        {
          "output_type": "execute_result",
          "data": {
            "text/plain": [
              "False"
            ]
          },
          "metadata": {},
          "execution_count": 11
        }
      ]
    },
    {
      "cell_type": "code",
      "source": [
        "6==6"
      ],
      "metadata": {
        "colab": {
          "base_uri": "https://localhost:8080/"
        },
        "id": "D81BXUJpmUmb",
        "outputId": "84851689-0164-4c1a-d246-9bd6cca6d2ee"
      },
      "execution_count": null,
      "outputs": [
        {
          "output_type": "execute_result",
          "data": {
            "text/plain": [
              "True"
            ]
          },
          "metadata": {},
          "execution_count": 12
        }
      ]
    },
    {
      "cell_type": "code",
      "source": [
        "2==2 and 5>4"
      ],
      "metadata": {
        "colab": {
          "base_uri": "https://localhost:8080/"
        },
        "id": "67BYY0agmVx0",
        "outputId": "ff5ff881-1b35-4f98-8340-28d6a46fc03b"
      },
      "execution_count": null,
      "outputs": [
        {
          "output_type": "execute_result",
          "data": {
            "text/plain": [
              "True"
            ]
          },
          "metadata": {},
          "execution_count": 13
        }
      ]
    },
    {
      "cell_type": "code",
      "source": [
        "00 0\n",
        "01 0\n",
        "10 0\n",
        "11 1"
      ],
      "metadata": {
        "id": "OKecfT4Fme0U"
      },
      "execution_count": null,
      "outputs": []
    },
    {
      "cell_type": "code",
      "source": [
        "2==2 or 4>5"
      ],
      "metadata": {
        "colab": {
          "base_uri": "https://localhost:8080/"
        },
        "id": "YQUU7lb3mm5_",
        "outputId": "4f86b97e-251e-444a-910a-843ebc896e9c"
      },
      "execution_count": null,
      "outputs": [
        {
          "output_type": "execute_result",
          "data": {
            "text/plain": [
              "True"
            ]
          },
          "metadata": {},
          "execution_count": 14
        }
      ]
    },
    {
      "cell_type": "code",
      "source": [
        "2==2"
      ],
      "metadata": {
        "colab": {
          "base_uri": "https://localhost:8080/"
        },
        "id": "aynQRnyEmpbU",
        "outputId": "082f2b97-be26-49db-bac6-914a660c9179"
      },
      "execution_count": null,
      "outputs": [
        {
          "output_type": "execute_result",
          "data": {
            "text/plain": [
              "True"
            ]
          },
          "metadata": {},
          "execution_count": 15
        }
      ]
    },
    {
      "cell_type": "code",
      "source": [
        "not 2==2"
      ],
      "metadata": {
        "colab": {
          "base_uri": "https://localhost:8080/"
        },
        "id": "4nsr8e8AmuAu",
        "outputId": "d7a50d42-155c-419c-e586-c4e8d320f725"
      },
      "execution_count": null,
      "outputs": [
        {
          "output_type": "execute_result",
          "data": {
            "text/plain": [
              "False"
            ]
          },
          "metadata": {},
          "execution_count": 16
        }
      ]
    },
    {
      "cell_type": "code",
      "source": [
        "2!=3"
      ],
      "metadata": {
        "colab": {
          "base_uri": "https://localhost:8080/"
        },
        "id": "ZIrs0E5lmwsI",
        "outputId": "2541dce2-aaa3-4a87-b0ed-ca0ba1cd4729"
      },
      "execution_count": null,
      "outputs": [
        {
          "output_type": "execute_result",
          "data": {
            "text/plain": [
              "True"
            ]
          },
          "metadata": {},
          "execution_count": 17
        }
      ]
    },
    {
      "cell_type": "code",
      "source": [
        "if conditon:\n",
        "  process"
      ],
      "metadata": {
        "id": "u73Uek6pm0cD"
      },
      "execution_count": null,
      "outputs": []
    },
    {
      "cell_type": "code",
      "source": [
        "a = 2\n",
        "if (a==2):\n",
        "  print(\"evet a 2dir\")\n",
        ""
      ],
      "metadata": {
        "colab": {
          "base_uri": "https://localhost:8080/"
        },
        "id": "kj16FfElnGDz",
        "outputId": "c0121e5c-29ce-437c-cc42-4058d7b5c2d6"
      },
      "execution_count": null,
      "outputs": [
        {
          "output_type": "stream",
          "name": "stdout",
          "text": [
            "evet a 2dir\n"
          ]
        }
      ]
    },
    {
      "cell_type": "code",
      "source": [
        "if(a==3):\n",
        "  print(\"hayır\")"
      ],
      "metadata": {
        "id": "NcyyCd3PnNRO"
      },
      "execution_count": null,
      "outputs": []
    },
    {
      "cell_type": "code",
      "source": [
        "k = int(input(\"gir\"))\n",
        "print(type(k))"
      ],
      "metadata": {
        "colab": {
          "base_uri": "https://localhost:8080/"
        },
        "id": "LN9FJmVJnvxR",
        "outputId": "dfc2633c-be8d-45b4-d189-97a0c47c1f91"
      },
      "execution_count": null,
      "outputs": [
        {
          "output_type": "stream",
          "name": "stdout",
          "text": [
            "gir18\n",
            "<class 'str'>\n"
          ]
        }
      ]
    },
    {
      "cell_type": "code",
      "source": [
        "int(k)"
      ],
      "metadata": {
        "id": "vh4qDBton4D1"
      },
      "execution_count": null,
      "outputs": []
    },
    {
      "cell_type": "code",
      "source": [
        "yas = int(input(\"lütfen bir yasş giriniz\"))\n",
        "\n",
        "if (yas<18):\n",
        "  print(\"Giremsin\")"
      ],
      "metadata": {
        "colab": {
          "base_uri": "https://localhost:8080/"
        },
        "id": "p_OPCkHanTn_",
        "outputId": "c833f317-492c-4082-bca4-6f7cfcd67531"
      },
      "execution_count": null,
      "outputs": [
        {
          "name": "stdout",
          "output_type": "stream",
          "text": [
            "lütfen bir yasş giriniz25\n"
          ]
        }
      ]
    },
    {
      "cell_type": "code",
      "source": [
        "yas = int(input(\"lütfen bir yasş giriniz\"))\n",
        "\n",
        "if (yas<=18):\n",
        "  print(\"giremz\")\n",
        "\n",
        "print(\"girebilir\")"
      ],
      "metadata": {
        "colab": {
          "base_uri": "https://localhost:8080/"
        },
        "id": "uZsfyRQSoDHr",
        "outputId": "cd9ba4a0-8377-494d-93c7-ee5d0e03d373"
      },
      "execution_count": null,
      "outputs": [
        {
          "output_type": "stream",
          "name": "stdout",
          "text": [
            "lütfen bir yasş giriniz18\n",
            "giremz\n",
            "girebilir\n"
          ]
        }
      ]
    },
    {
      "cell_type": "code",
      "source": [
        "yas = int(input(\"lütfen bir yasş giriniz\"))\n",
        "\n",
        "if (yas<18):\n",
        "  print(\"giremez\")\n",
        "else:\n",
        "  print(\"girebilir\")"
      ],
      "metadata": {
        "colab": {
          "base_uri": "https://localhost:8080/"
        },
        "id": "FG5_YPL7omOL",
        "outputId": "1d25e096-57c9-49c3-b9e8-36c08eb69716"
      },
      "execution_count": null,
      "outputs": [
        {
          "output_type": "stream",
          "name": "stdout",
          "text": [
            "lütfen bir yasş giriniz21\n",
            "girebilir\n"
          ]
        }
      ]
    },
    {
      "cell_type": "code",
      "source": [
        "else:\n",
        "  print(\"merhaba\")"
      ],
      "metadata": {
        "colab": {
          "base_uri": "https://localhost:8080/",
          "height": 130
        },
        "id": "FZsTkojcpA5-",
        "outputId": "0bc399d1-df8e-4535-816c-b30bcda1bb8d"
      },
      "execution_count": null,
      "outputs": [
        {
          "output_type": "error",
          "ename": "SyntaxError",
          "evalue": "ignored",
          "traceback": [
            "\u001b[0;36m  File \u001b[0;32m\"<ipython-input-31-b3a9937db8ab>\"\u001b[0;36m, line \u001b[0;32m1\u001b[0m\n\u001b[0;31m    else:\u001b[0m\n\u001b[0m    ^\u001b[0m\n\u001b[0;31mSyntaxError\u001b[0m\u001b[0;31m:\u001b[0m invalid syntax\n"
          ]
        }
      ]
    },
    {
      "cell_type": "code",
      "source": [
        "islem = int(input(\"bir tane işelm seçiniz\"))\n",
        "if\n",
        "elif (islem ==2):\n",
        "  print(\"2. işlem\")\n",
        "elif (islem==3):\n",
        "  print(\"3. işlem\")\n",
        "else:\n",
        "  print(\"geçersiz\")"
      ],
      "metadata": {
        "colab": {
          "base_uri": "https://localhost:8080/"
        },
        "id": "m2CHRDXvpKBy",
        "outputId": "fbcee088-d01e-4b1d-8663-718da5a79130"
      },
      "execution_count": null,
      "outputs": [
        {
          "output_type": "stream",
          "name": "stdout",
          "text": [
            "bir tane işelm seçiniz4\n",
            "geçersiz\n"
          ]
        }
      ]
    },
    {
      "cell_type": "code",
      "source": [
        "90 > aa\n",
        "70 bb\n",
        "50 cc\n",
        "ff"
      ],
      "metadata": {
        "id": "PPoNeVcGqSuF"
      },
      "execution_count": null,
      "outputs": []
    },
    {
      "cell_type": "code",
      "source": [
        "a = int(input(\"not\"))\n",
        "\n",
        "if (a>90):\n",
        "  print(\"aa\")\n",
        "\n",
        "elif(a>70):\n",
        "  print(\"bb\")\n",
        "elif(a>50):\n",
        "  print(\"cc\")\n",
        "else:\n",
        "  print(\"ff\")"
      ],
      "metadata": {
        "colab": {
          "base_uri": "https://localhost:8080/"
        },
        "id": "wu_zzSlaqr1i",
        "outputId": "d333c6d1-8bc1-40bf-83cd-03c7c10d62ac"
      },
      "execution_count": null,
      "outputs": [
        {
          "output_type": "stream",
          "name": "stdout",
          "text": [
            "not20\n",
            "ff\n"
          ]
        }
      ]
    },
    {
      "cell_type": "code",
      "source": [
        "a = int(input(\"not\"))\n",
        "\n",
        "if (a>90):\n",
        "  print(\"aa\")\n",
        "if(a>70):\n",
        "  print(\"bb\")\n",
        "if(a>50):\n",
        "  print(\"cc\")\n",
        "else:\n",
        "  print(\"ff\")"
      ],
      "metadata": {
        "colab": {
          "base_uri": "https://localhost:8080/"
        },
        "id": "YRamxrQNrCR0",
        "outputId": "a1e10986-ff93-4ec3-ad48-6c639f50a188"
      },
      "execution_count": null,
      "outputs": [
        {
          "output_type": "stream",
          "name": "stdout",
          "text": [
            "not93\n",
            "aa\n",
            "bb\n",
            "cc\n"
          ]
        }
      ]
    },
    {
      "cell_type": "code",
      "source": [
        "\"\"\"\n",
        "1.Toplama\n",
        "2. Çıkarma\n",
        "3.Çarpma\n",
        "4. Bölme\n",
        "\"\"\"\n",
        "\n",
        "a= float(input(\"Bir sayi gir\"))\n",
        "b= float(input(\"Bir sayi gir\"))\n",
        "\n",
        "islem = input(\"Bir işlem seçiniz\")\n",
        "\n",
        "if (islem==\"1\"):\n",
        "  print(\"{} ile {} toplamı: {}\".format(a,b,a+b))\n",
        "elif (islem==\"2\"):\n",
        "  print(\"{} ile {} farki: {}\".format(a,b,a-b))\n",
        "elif (islem==\"3\"):\n",
        "  print(\"{} ile {} carpimi: {}\".format(a,b,a*b))\n",
        "elif (islem==\"4\"):\n",
        "  print(\"{} ile {} bolumü: {}\".format(a,b,a/b))\n",
        "else:\n",
        "  print(\"hatali giris\")"
      ],
      "metadata": {
        "colab": {
          "base_uri": "https://localhost:8080/"
        },
        "id": "gdX02bQWr8Y1",
        "outputId": "817060ba-7cd2-409f-8318-c37a0464398c"
      },
      "execution_count": null,
      "outputs": [
        {
          "output_type": "stream",
          "name": "stdout",
          "text": [
            "Bir sayi gir12\n",
            "Bir sayi gir5\n",
            "Bir işlem seçiniz6\n",
            "hatali giris\n"
          ]
        }
      ]
    },
    {
      "cell_type": "code",
      "source": [
        "sys_username = \"ali\"\n",
        "sys_password =\"123\"\n",
        "\n",
        "username = input(\"kullanici adi giriniz\")\n",
        "password = input(\"sifre giriniz\")\n",
        "\n",
        "if (username!=sys_username and sys_password==password ):\n",
        "  print(\"kullanici adi hatali\")\n",
        "  jflkşsadf\n",
        "  sdfklskfisad\n",
        "  fslşdkflsşkfşlsad\n",
        "  flşskfşlasdf\n",
        "\n",
        "elif (username==sys_username and sys_password!=password ):\n",
        "  print(\"password  hatali\")\n",
        "elif (username!=sys_username and sys_password!=password ):\n",
        "  print(\"ikiside  hatali\")\n",
        "else:\n",
        "  print(\"doğru giriş\")\n",
        "\n",
        "\n"
      ],
      "metadata": {
        "colab": {
          "base_uri": "https://localhost:8080/"
        },
        "id": "cUy4bNoqs-V7",
        "outputId": "6eee69c6-a4e2-4aa9-eeba-112efb7fdad4"
      },
      "execution_count": null,
      "outputs": [
        {
          "output_type": "stream",
          "name": "stdout",
          "text": [
            "kullanici adi girinizali\n",
            "sifre giriniz123\n",
            "doğru giriş\n"
          ]
        }
      ]
    },
    {
      "cell_type": "code",
      "source": [
        "if (yas>18):\n",
        "  print(\"yasiniz tutyor\")\n",
        "\n",
        "  if (cinsiyet==\"K\"):\n",
        "    print(\"Cinsiyet okey\")\n",
        "  else:\n",
        "    print(\"Not okey\")"
      ],
      "metadata": {
        "id": "0Ghvwxtdu3tQ"
      },
      "execution_count": null,
      "outputs": []
    },
    {
      "cell_type": "code",
      "source": [
        "b = [10,2,3,49,5]"
      ],
      "metadata": {
        "id": "vLFHHuHnv469"
      },
      "execution_count": null,
      "outputs": []
    },
    {
      "cell_type": "code",
      "source": [
        "6 in b"
      ],
      "metadata": {
        "colab": {
          "base_uri": "https://localhost:8080/"
        },
        "id": "ldXwS11lv5H5",
        "outputId": "c9ddc0bd-8627-448c-9822-a9c5e3136efe"
      },
      "execution_count": null,
      "outputs": [
        {
          "output_type": "execute_result",
          "data": {
            "text/plain": [
              "False"
            ]
          },
          "metadata": {},
          "execution_count": 51
        }
      ]
    },
    {
      "cell_type": "code",
      "source": [
        "5 in b"
      ],
      "metadata": {
        "colab": {
          "base_uri": "https://localhost:8080/"
        },
        "id": "nXEEPxFpv5Rd",
        "outputId": "5f6c0f5a-d099-4de1-c6f9-032783c8e65d"
      },
      "execution_count": null,
      "outputs": [
        {
          "output_type": "execute_result",
          "data": {
            "text/plain": [
              "True"
            ]
          },
          "metadata": {},
          "execution_count": 52
        }
      ]
    },
    {
      "cell_type": "code",
      "source": [
        "for  in (list,tuple.vs):\n",
        "  process"
      ],
      "metadata": {
        "id": "3gs5h0eIwWMQ"
      },
      "execution_count": null,
      "outputs": []
    },
    {
      "cell_type": "code",
      "source": [
        "for i in b:\n",
        "  print(i)"
      ],
      "metadata": {
        "colab": {
          "base_uri": "https://localhost:8080/"
        },
        "id": "ykMCJIiiwsvT",
        "outputId": "8d419dfc-703e-4a37-8957-88fca0283445"
      },
      "execution_count": null,
      "outputs": [
        {
          "output_type": "stream",
          "name": "stdout",
          "text": [
            "1\n",
            "2\n",
            "3\n",
            "4\n",
            "5\n"
          ]
        }
      ]
    },
    {
      "cell_type": "code",
      "source": [
        "for i in b:\n",
        "  i+=i"
      ],
      "metadata": {
        "id": "fJMhec37w0OM"
      },
      "execution_count": null,
      "outputs": []
    },
    {
      "cell_type": "code",
      "source": [
        "a=0\n",
        "for i in b:\n",
        "\n",
        "  a+=i\n",
        "  print(a,i)"
      ],
      "metadata": {
        "colab": {
          "base_uri": "https://localhost:8080/"
        },
        "id": "MRHPX26Nw--B",
        "outputId": "74304acd-c045-4248-b0a4-558239c4aacd"
      },
      "execution_count": null,
      "outputs": [
        {
          "output_type": "stream",
          "name": "stdout",
          "text": [
            "10 10\n",
            "12 2\n",
            "15 3\n",
            "64 49\n",
            "69 5\n"
          ]
        }
      ]
    },
    {
      "cell_type": "code",
      "source": [
        "liste = [1,2,3,4,5,6,100,\"a\"]\n",
        "for i in liste:\n",
        "  if (i%2==0):\n",
        "    print(i)"
      ],
      "metadata": {
        "colab": {
          "base_uri": "https://localhost:8080/",
          "height": 283
        },
        "id": "0ritPfn2x1a-",
        "outputId": "13ee7e5f-e6be-407b-863e-721819c96b61"
      },
      "execution_count": null,
      "outputs": [
        {
          "output_type": "stream",
          "name": "stdout",
          "text": [
            "2\n",
            "4\n",
            "6\n",
            "100\n"
          ]
        },
        {
          "output_type": "error",
          "ename": "TypeError",
          "evalue": "ignored",
          "traceback": [
            "\u001b[0;31m---------------------------------------------------------------------------\u001b[0m",
            "\u001b[0;31mTypeError\u001b[0m                                 Traceback (most recent call last)",
            "\u001b[0;32m<ipython-input-68-c104560c5de9>\u001b[0m in \u001b[0;36m<cell line: 2>\u001b[0;34m()\u001b[0m\n\u001b[1;32m      1\u001b[0m \u001b[0mliste\u001b[0m \u001b[0;34m=\u001b[0m \u001b[0;34m[\u001b[0m\u001b[0;36m1\u001b[0m\u001b[0;34m,\u001b[0m\u001b[0;36m2\u001b[0m\u001b[0;34m,\u001b[0m\u001b[0;36m3\u001b[0m\u001b[0;34m,\u001b[0m\u001b[0;36m4\u001b[0m\u001b[0;34m,\u001b[0m\u001b[0;36m5\u001b[0m\u001b[0;34m,\u001b[0m\u001b[0;36m6\u001b[0m\u001b[0;34m,\u001b[0m\u001b[0;36m100\u001b[0m\u001b[0;34m,\u001b[0m\u001b[0;34m\"a\"\u001b[0m\u001b[0;34m]\u001b[0m\u001b[0;34m\u001b[0m\u001b[0;34m\u001b[0m\u001b[0m\n\u001b[1;32m      2\u001b[0m \u001b[0;32mfor\u001b[0m \u001b[0mi\u001b[0m \u001b[0;32min\u001b[0m \u001b[0mliste\u001b[0m\u001b[0;34m:\u001b[0m\u001b[0;34m\u001b[0m\u001b[0;34m\u001b[0m\u001b[0m\n\u001b[0;32m----> 3\u001b[0;31m   \u001b[0;32mif\u001b[0m \u001b[0;34m(\u001b[0m\u001b[0mi\u001b[0m\u001b[0;34m%\u001b[0m\u001b[0;36m2\u001b[0m\u001b[0;34m==\u001b[0m\u001b[0;36m0\u001b[0m\u001b[0;34m)\u001b[0m\u001b[0;34m:\u001b[0m\u001b[0;34m\u001b[0m\u001b[0;34m\u001b[0m\u001b[0m\n\u001b[0m\u001b[1;32m      4\u001b[0m     \u001b[0mprint\u001b[0m\u001b[0;34m(\u001b[0m\u001b[0mi\u001b[0m\u001b[0;34m)\u001b[0m\u001b[0;34m\u001b[0m\u001b[0;34m\u001b[0m\u001b[0m\n",
            "\u001b[0;31mTypeError\u001b[0m: not all arguments converted during string formatting"
          ]
        }
      ]
    },
    {
      "cell_type": "code",
      "source": [
        "new_tuple = (1,2,3,4,5,6)\n",
        "for i in new_tuple:\n",
        "  print(i)"
      ],
      "metadata": {
        "colab": {
          "base_uri": "https://localhost:8080/"
        },
        "id": "0awICbayx7ih",
        "outputId": "ed1402fa-1a96-4865-9ecb-16c3d0f76768"
      },
      "execution_count": null,
      "outputs": [
        {
          "output_type": "stream",
          "name": "stdout",
          "text": [
            "1\n",
            "2\n",
            "3\n",
            "4\n",
            "5\n",
            "6\n"
          ]
        }
      ]
    },
    {
      "cell_type": "code",
      "source": [
        "liste_new = [(1,2,5),(2,3),(3,4),(4,5)]\n",
        "\n",
        "for i in liste_new:\n",
        "  print(i)"
      ],
      "metadata": {
        "colab": {
          "base_uri": "https://localhost:8080/"
        },
        "id": "OiaHIaLvyM6r",
        "outputId": "12c50cfe-bf39-487d-8c0c-130685c98705"
      },
      "execution_count": null,
      "outputs": [
        {
          "output_type": "stream",
          "name": "stdout",
          "text": [
            "(1, 2, 4)\n",
            "(2, 3, 4)\n",
            "(3, 4, 5)\n",
            "(4, 5, 6)\n"
          ]
        }
      ]
    },
    {
      "cell_type": "code",
      "source": [
        "for (i,j,k) in liste_new:\n",
        "  print(k)"
      ],
      "metadata": {
        "colab": {
          "base_uri": "https://localhost:8080/"
        },
        "id": "K63JEeuEz0Ir",
        "outputId": "08a91e09-47e6-4397-d912-bb48faeec466"
      },
      "execution_count": null,
      "outputs": [
        {
          "output_type": "stream",
          "name": "stdout",
          "text": [
            "4\n",
            "4\n",
            "5\n",
            "6\n"
          ]
        }
      ]
    },
    {
      "cell_type": "code",
      "source": [
        "sozluk = {\"bir\":1,\"iki\":2,\"uc\":3}"
      ],
      "metadata": {
        "id": "8sNdk8W60g2T"
      },
      "execution_count": null,
      "outputs": []
    },
    {
      "cell_type": "code",
      "source": [
        "sozluk.keys()"
      ],
      "metadata": {
        "colab": {
          "base_uri": "https://localhost:8080/"
        },
        "id": "XIO0tcZQ0wSz",
        "outputId": "1dbfd3ac-94e1-49c0-bbe3-e40abe5abf22"
      },
      "execution_count": null,
      "outputs": [
        {
          "output_type": "execute_result",
          "data": {
            "text/plain": [
              "dict_keys(['bir', 'iki', 'uc'])"
            ]
          },
          "metadata": {},
          "execution_count": 78
        }
      ]
    },
    {
      "cell_type": "code",
      "source": [
        "sozluk.values()"
      ],
      "metadata": {
        "colab": {
          "base_uri": "https://localhost:8080/"
        },
        "id": "FPnTjo_B02zV",
        "outputId": "1174b174-119c-4aaa-bdaa-921dfeb06cce"
      },
      "execution_count": null,
      "outputs": [
        {
          "output_type": "execute_result",
          "data": {
            "text/plain": [
              "dict_values([1, 2, 3])"
            ]
          },
          "metadata": {},
          "execution_count": 79
        }
      ]
    },
    {
      "cell_type": "code",
      "source": [
        "sozluk.items()"
      ],
      "metadata": {
        "colab": {
          "base_uri": "https://localhost:8080/"
        },
        "id": "ep5DlAv006ly",
        "outputId": "9098b7b8-d345-482f-e90f-37e2c734d328"
      },
      "execution_count": null,
      "outputs": [
        {
          "output_type": "execute_result",
          "data": {
            "text/plain": [
              "dict_items([('bir', 1), ('iki', 2), ('uc', 3)])"
            ]
          },
          "metadata": {},
          "execution_count": 80
        }
      ]
    },
    {
      "cell_type": "code",
      "source": [
        "for i in sozluk:\n",
        "  print(i)"
      ],
      "metadata": {
        "colab": {
          "base_uri": "https://localhost:8080/"
        },
        "id": "665cUpOj08w0",
        "outputId": "b569aaff-3508-46b8-9df0-b15aecd11b8f"
      },
      "execution_count": null,
      "outputs": [
        {
          "output_type": "stream",
          "name": "stdout",
          "text": [
            "bir\n",
            "iki\n",
            "uc\n"
          ]
        }
      ]
    },
    {
      "cell_type": "code",
      "source": [
        "for j in sozluk.keys():\n",
        "  print(j)"
      ],
      "metadata": {
        "colab": {
          "base_uri": "https://localhost:8080/"
        },
        "id": "ShG4JBcq1TuD",
        "outputId": "bfd70fb7-cbd5-473a-c7f3-1e1d0c339738"
      },
      "execution_count": null,
      "outputs": [
        {
          "output_type": "stream",
          "name": "stdout",
          "text": [
            "bir\n",
            "iki\n",
            "uc\n"
          ]
        }
      ]
    },
    {
      "cell_type": "code",
      "source": [
        "for j in sozluk.values():\n",
        "  print(j)"
      ],
      "metadata": {
        "colab": {
          "base_uri": "https://localhost:8080/"
        },
        "id": "L9aG5VyG1Y9w",
        "outputId": "3516a317-2f07-48b7-b024-5d282a4f7a6d"
      },
      "execution_count": null,
      "outputs": [
        {
          "output_type": "stream",
          "name": "stdout",
          "text": [
            "1\n",
            "2\n",
            "3\n"
          ]
        }
      ]
    },
    {
      "cell_type": "code",
      "source": [
        "for (i,j) in sozluk.items():\n",
        "  print(f\"Anahtar: {i}, value: {j}\")\n",
        "  print(\"Anahtar: i, value: j\")\n",
        "  print(\"Anahtar: {}\".format(i))\n",
        "  print(\"Anahatar: \",i,\" valeu: \",j)\n"
      ],
      "metadata": {
        "colab": {
          "base_uri": "https://localhost:8080/"
        },
        "id": "umaNwZ--1emd",
        "outputId": "162da7f1-1c60-493d-e889-51afcefa81a2"
      },
      "execution_count": null,
      "outputs": [
        {
          "output_type": "stream",
          "name": "stdout",
          "text": [
            "Anahtar: bir, value: 1\n",
            "Anahtar: i, value: j\n",
            "Anahtar: bir\n",
            "Anahatar:  bir  valeu:  1\n",
            "Anahtar: iki, value: 2\n",
            "Anahtar: i, value: j\n",
            "Anahtar: iki\n",
            "Anahatar:  iki  valeu:  2\n",
            "Anahtar: uc, value: 3\n",
            "Anahtar: i, value: j\n",
            "Anahtar: uc\n",
            "Anahatar:  uc  valeu:  3\n"
          ]
        }
      ]
    },
    {
      "cell_type": "code",
      "source": [
        "liste2 = [1,2,3,4,5]\n",
        "liste3 = list() # []\n",
        "\n",
        "for i in liste2:\n",
        "  liste3.append(i)\n"
      ],
      "metadata": {
        "id": "vp93NpVN2OB-"
      },
      "execution_count": null,
      "outputs": []
    },
    {
      "cell_type": "code",
      "source": [
        "liste3"
      ],
      "metadata": {
        "colab": {
          "base_uri": "https://localhost:8080/"
        },
        "id": "BN4ivlMF2OEf",
        "outputId": "0aae5f6c-cfbc-4225-dd49-59538a59c752"
      },
      "execution_count": null,
      "outputs": [
        {
          "output_type": "execute_result",
          "data": {
            "text/plain": [
              "[1, 2, 3, 4, 5]"
            ]
          },
          "metadata": {},
          "execution_count": 88
        }
      ]
    },
    {
      "cell_type": "code",
      "source": [
        "liste2 = [1,2,3,4,5]\n",
        "liste3 = list() # []"
      ],
      "metadata": {
        "id": "qD_dn2-_2OG1"
      },
      "execution_count": null,
      "outputs": []
    },
    {
      "cell_type": "code",
      "source": [
        "liste3"
      ],
      "metadata": {
        "colab": {
          "base_uri": "https://localhost:8080/"
        },
        "id": "z56ah02o2OJb",
        "outputId": "93801c70-dff2-43c2-9659-2cb57c669aac"
      },
      "execution_count": null,
      "outputs": [
        {
          "output_type": "execute_result",
          "data": {
            "text/plain": [
              "[]"
            ]
          },
          "metadata": {},
          "execution_count": 90
        }
      ]
    },
    {
      "cell_type": "code",
      "source": [
        "liste3 = [i for i in liste2]"
      ],
      "metadata": {
        "id": "uSsl9sw52OMR"
      },
      "execution_count": null,
      "outputs": []
    },
    {
      "cell_type": "code",
      "source": [
        "liste3"
      ],
      "metadata": {
        "colab": {
          "base_uri": "https://localhost:8080/"
        },
        "id": "fX2AbDxL1sH9",
        "outputId": "a54500e4-5a57-4fb5-f888-2205fbe7aeb9"
      },
      "execution_count": null,
      "outputs": [
        {
          "output_type": "execute_result",
          "data": {
            "text/plain": [
              "[1, 2, 3, 4, 5]"
            ]
          },
          "metadata": {},
          "execution_count": 92
        }
      ]
    },
    {
      "cell_type": "code",
      "source": [
        "liste3 = [i*2 for i in liste2]"
      ],
      "metadata": {
        "id": "XBtQowZW3Y4h"
      },
      "execution_count": null,
      "outputs": []
    },
    {
      "cell_type": "code",
      "source": [
        "liste3"
      ],
      "metadata": {
        "colab": {
          "base_uri": "https://localhost:8080/"
        },
        "id": "nD3oTqb63iZu",
        "outputId": "ea092f6e-fa93-47f9-90d7-6e24754c8a72"
      },
      "execution_count": null,
      "outputs": [
        {
          "output_type": "execute_result",
          "data": {
            "text/plain": [
              "[2, 4, 6, 8, 10]"
            ]
          },
          "metadata": {},
          "execution_count": 94
        }
      ]
    },
    {
      "cell_type": "code",
      "source": [
        "k = [(1,2),(2,3),(3,4)]\n",
        "l = [i*j  for (i,j) in k ]"
      ],
      "metadata": {
        "id": "QkrN_yQd3jFc"
      },
      "execution_count": null,
      "outputs": []
    },
    {
      "cell_type": "code",
      "source": [
        "l"
      ],
      "metadata": {
        "colab": {
          "base_uri": "https://localhost:8080/"
        },
        "id": "GE31tYpZ4LC7",
        "outputId": "eafa0baa-eaf4-42e3-d6e2-7aa8c12b2a88"
      },
      "execution_count": null,
      "outputs": [
        {
          "output_type": "execute_result",
          "data": {
            "text/plain": [
              "[2, 6, 12]"
            ]
          },
          "metadata": {},
          "execution_count": 96
        }
      ]
    },
    {
      "cell_type": "code",
      "source": [
        "liste5= [1,2,4,9,13]"
      ],
      "metadata": {
        "id": "YtWekUzk4LvP"
      },
      "execution_count": null,
      "outputs": []
    },
    {
      "cell_type": "code",
      "source": [
        "liste6 = [i for i in liste5 if not (i==4 or i==9)]"
      ],
      "metadata": {
        "id": "hizapZvo4Vvn"
      },
      "execution_count": null,
      "outputs": []
    },
    {
      "cell_type": "code",
      "source": [
        "liste6"
      ],
      "metadata": {
        "colab": {
          "base_uri": "https://localhost:8080/"
        },
        "id": "qvUh2DBr4eT6",
        "outputId": "b235a30b-236a-49d6-8f72-f1065a7bd9c7"
      },
      "execution_count": null,
      "outputs": [
        {
          "output_type": "execute_result",
          "data": {
            "text/plain": [
              "[1, 2, 13]"
            ]
          },
          "metadata": {},
          "execution_count": 101
        }
      ]
    },
    {
      "cell_type": "code",
      "source": [
        "k=\"Python\"\n",
        "k*3"
      ],
      "metadata": {
        "colab": {
          "base_uri": "https://localhost:8080/",
          "height": 37
        },
        "id": "gVWDUwJa4fr0",
        "outputId": "fea3256f-2a60-46eb-f02c-bc0bdde94a1a"
      },
      "execution_count": null,
      "outputs": [
        {
          "output_type": "execute_result",
          "data": {
            "text/plain": [
              "'PythonPythonPython'"
            ],
            "application/vnd.google.colaboratory.intrinsic+json": {
              "type": "string"
            }
          },
          "metadata": {},
          "execution_count": 102
        }
      ]
    },
    {
      "cell_type": "code",
      "source": [
        "liste_new = [[1,2,3],[1,2,3,4],[10,20,30]]"
      ],
      "metadata": {
        "id": "3_CVM6DT4qUw"
      },
      "execution_count": null,
      "outputs": []
    },
    {
      "cell_type": "code",
      "source": [
        "liste_new2=[]\n",
        "for i in liste_new:\n",
        "  a=0\n",
        "  print(i)\n",
        "  for j in i:\n",
        "    print(j)\n",
        "    a+=j\n",
        "  print(\"-------\")\n",
        "  liste_new2.append(a)"
      ],
      "metadata": {
        "colab": {
          "base_uri": "https://localhost:8080/"
        },
        "id": "VW1Tt_8L4tNm",
        "outputId": "1c5391e1-e4e4-4d3c-d67d-1f0868b89c66"
      },
      "execution_count": null,
      "outputs": [
        {
          "output_type": "stream",
          "name": "stdout",
          "text": [
            "[1, 2, 3]\n",
            "1\n",
            "2\n",
            "3\n",
            "-------\n",
            "[1, 2, 3, 4]\n",
            "1\n",
            "2\n",
            "3\n",
            "4\n",
            "-------\n",
            "[10, 20, 30]\n",
            "10\n",
            "20\n",
            "30\n",
            "-------\n"
          ]
        }
      ]
    },
    {
      "cell_type": "code",
      "source": [
        "liste_new"
      ],
      "metadata": {
        "colab": {
          "base_uri": "https://localhost:8080/"
        },
        "id": "ptfUifbk45nZ",
        "outputId": "55209554-5fa4-4f19-ef59-e44e2f040b45"
      },
      "execution_count": null,
      "outputs": [
        {
          "output_type": "execute_result",
          "data": {
            "text/plain": [
              "[[1, 2, 3], [1, 2, 3, 4], [10, 20, 30]]"
            ]
          },
          "metadata": {},
          "execution_count": 111
        }
      ]
    },
    {
      "cell_type": "code",
      "source": [
        "len(liste_new)"
      ],
      "metadata": {
        "colab": {
          "base_uri": "https://localhost:8080/"
        },
        "id": "HiYVqhCe6YM5",
        "outputId": "59d5227c-c412-4612-b2c1-5440903bfd06"
      },
      "execution_count": null,
      "outputs": [
        {
          "output_type": "execute_result",
          "data": {
            "text/plain": [
              "3"
            ]
          },
          "metadata": {},
          "execution_count": 112
        }
      ]
    },
    {
      "cell_type": "code",
      "source": [
        "bos_liste=[]\n",
        "for liste in liste_new:\n",
        "  a=0\n",
        "  print(a)\n",
        "  print(liste,type(liste))\n",
        "  for j in liste:\n",
        "    a+=j\n",
        "    print(a)\n",
        "  bos_liste.append(a)\n",
        "  print(\"------\")"
      ],
      "metadata": {
        "colab": {
          "base_uri": "https://localhost:8080/"
        },
        "id": "YF_Y694B6b7V",
        "outputId": "59a89e70-6ff0-4285-bc9c-0d9ecbada326"
      },
      "execution_count": null,
      "outputs": [
        {
          "output_type": "stream",
          "name": "stdout",
          "text": [
            "0\n",
            "[1, 2, 3] <class 'list'>\n",
            "1\n",
            "3\n",
            "6\n",
            "------\n",
            "0\n",
            "[1, 2, 3, 4] <class 'list'>\n",
            "1\n",
            "3\n",
            "6\n",
            "10\n",
            "------\n",
            "0\n",
            "[10, 20, 30] <class 'list'>\n",
            "10\n",
            "30\n",
            "60\n",
            "------\n"
          ]
        }
      ]
    },
    {
      "cell_type": "code",
      "source": [
        "bos_liste"
      ],
      "metadata": {
        "colab": {
          "base_uri": "https://localhost:8080/"
        },
        "id": "tBxXwN8E6evK",
        "outputId": "018d2aad-95ea-4535-f5ba-fe3e92b2da59"
      },
      "execution_count": null,
      "outputs": [
        {
          "output_type": "execute_result",
          "data": {
            "text/plain": [
              "[6, 10, 60]"
            ]
          },
          "metadata": {},
          "execution_count": 119
        }
      ]
    },
    {
      "cell_type": "code",
      "source": [
        "while (True) codniton:\n",
        "  process"
      ],
      "metadata": {
        "id": "Isz52H8f7V94"
      },
      "execution_count": null,
      "outputs": []
    },
    {
      "cell_type": "code",
      "source": [
        "i=0\n",
        "while (i<40):\n",
        "  print(i)\n",
        "  i+=2\n"
      ],
      "metadata": {
        "colab": {
          "base_uri": "https://localhost:8080/"
        },
        "id": "RbnN_oHF7i38",
        "outputId": "c16540d8-5831-4e3a-c217-5769460392a5"
      },
      "execution_count": null,
      "outputs": [
        {
          "output_type": "stream",
          "name": "stdout",
          "text": [
            "0\n",
            "2\n",
            "4\n",
            "6\n",
            "8\n",
            "10\n",
            "12\n",
            "14\n",
            "16\n",
            "18\n",
            "20\n",
            "22\n",
            "24\n",
            "26\n",
            "28\n",
            "30\n",
            "32\n",
            "34\n",
            "36\n",
            "38\n"
          ]
        }
      ]
    },
    {
      "cell_type": "code",
      "source": [
        "liste =[2,3,4,5]\n",
        "\n",
        "a= 0\n",
        "\n",
        "while (a<len(liste)):\n",
        "  print(liste[a])\n",
        "  a+=1"
      ],
      "metadata": {
        "colab": {
          "base_uri": "https://localhost:8080/"
        },
        "id": "cQFH24un71_5",
        "outputId": "3b7eea26-7a5b-4059-c569-4d6c2ef07fbf"
      },
      "execution_count": null,
      "outputs": [
        {
          "output_type": "stream",
          "name": "stdout",
          "text": [
            "2\n",
            "3\n",
            "4\n",
            "5\n"
          ]
        }
      ]
    },
    {
      "cell_type": "code",
      "source": [
        "#break continue"
      ],
      "metadata": {
        "id": "qUAR2kpq8N4P"
      },
      "execution_count": null,
      "outputs": []
    },
    {
      "cell_type": "code",
      "source": [
        "i = 0\n",
        "while (i<20):\n",
        "  print(i)\n",
        "  if (i==10):\n",
        "    break\n",
        "  i+=1"
      ],
      "metadata": {
        "colab": {
          "base_uri": "https://localhost:8080/"
        },
        "id": "h2C4azfv8eGb",
        "outputId": "8101d569-c967-45a5-8d4f-8650f70e80e9"
      },
      "execution_count": null,
      "outputs": [
        {
          "output_type": "stream",
          "name": "stdout",
          "text": [
            "0\n",
            "1\n",
            "2\n",
            "3\n",
            "4\n",
            "5\n",
            "6\n",
            "7\n",
            "8\n",
            "9\n",
            "10\n"
          ]
        }
      ]
    },
    {
      "cell_type": "code",
      "source": [
        "liste_new = [1,2,4,5,6]\n",
        "\n",
        "for i in liste_new:\n",
        "\n",
        "  if(i==3):\n",
        "    break\n",
        "  print(i)"
      ],
      "metadata": {
        "colab": {
          "base_uri": "https://localhost:8080/"
        },
        "id": "25mfB7VS8vFT",
        "outputId": "a481e20d-c972-4726-b221-cd14a2cfad3c"
      },
      "execution_count": null,
      "outputs": [
        {
          "output_type": "stream",
          "name": "stdout",
          "text": [
            "1\n",
            "2\n",
            "4\n",
            "5\n",
            "6\n"
          ]
        }
      ]
    },
    {
      "cell_type": "code",
      "source": [
        "while True:\n",
        "  islem = input(\"Bir şey giriniz\")\n",
        "  if (islem==\"q\"):\n",
        "    break\n",
        "  print(islem)"
      ],
      "metadata": {
        "colab": {
          "base_uri": "https://localhost:8080/"
        },
        "id": "xICsRXy_87-L",
        "outputId": "c5c1a58a-69c4-489c-cb6b-67dc83f85538"
      },
      "execution_count": null,
      "outputs": [
        {
          "name": "stdout",
          "output_type": "stream",
          "text": [
            "Bir şey girinizsdjkdsaf\n",
            "sdjkdsaf\n",
            "Bir şey girinizflkdsfjkklasdf\n",
            "flkdsfjkklasdf\n",
            "Bir şey girinizfsdjklfkjsadf\n",
            "fsdjklfkjsadf\n",
            "Bir şey girinizq\n"
          ]
        }
      ]
    },
    {
      "cell_type": "code",
      "source": [
        "liste = [1,2,3,4,5,6]\n",
        "for i in liste:\n",
        "\n",
        "  if (i==3 or i==5):\n",
        "    continue\n",
        "  print(i*3,i)"
      ],
      "metadata": {
        "colab": {
          "base_uri": "https://localhost:8080/"
        },
        "id": "eqgjFM0f9hz8",
        "outputId": "e0be4548-4c1b-49b0-8c14-ca3385522b54"
      },
      "execution_count": null,
      "outputs": [
        {
          "output_type": "stream",
          "name": "stdout",
          "text": [
            "3 1\n",
            "6 2\n",
            "12 4\n",
            "18 6\n"
          ]
        }
      ]
    },
    {
      "cell_type": "code",
      "source": [
        "i = 0\n",
        "\n",
        "while (i<10):\n",
        "\n",
        "\n",
        "  if (i==3):\n",
        "    i+=1\n",
        "    continue\n",
        "  print(i)\n",
        "  i+=1\n"
      ],
      "metadata": {
        "colab": {
          "base_uri": "https://localhost:8080/"
        },
        "id": "gvBXkEuj94XD",
        "outputId": "b34a0561-a0b5-41ef-d4b0-a6782b074a77"
      },
      "execution_count": null,
      "outputs": [
        {
          "output_type": "stream",
          "name": "stdout",
          "text": [
            "0\n",
            "1\n",
            "2\n",
            "4\n",
            "5\n",
            "6\n",
            "7\n",
            "8\n",
            "9\n"
          ]
        }
      ]
    },
    {
      "cell_type": "code",
      "source": [
        "i=0\n",
        "while(i<10):\n",
        "\n",
        "  if (i==3):\n",
        "    i+=1\n",
        "    continue\n",
        "  print(i)\n",
        "\n",
        "  i+=1"
      ],
      "metadata": {
        "colab": {
          "base_uri": "https://localhost:8080/"
        },
        "id": "ZALJtqMj_J5F",
        "outputId": "c1bdf2d2-51c3-4562-af0e-fb57fe344d1a"
      },
      "execution_count": null,
      "outputs": [
        {
          "output_type": "stream",
          "name": "stdout",
          "text": [
            "0\n",
            "1\n",
            "2\n",
            "4\n",
            "5\n",
            "6\n",
            "7\n",
            "8\n",
            "9\n"
          ]
        }
      ]
    },
    {
      "cell_type": "code",
      "source": [
        "range(0,20)"
      ],
      "metadata": {
        "colab": {
          "base_uri": "https://localhost:8080/"
        },
        "id": "YdYExgeo_vnu",
        "outputId": "2a2597c3-a28e-437d-ec93-873574959d1c"
      },
      "execution_count": null,
      "outputs": [
        {
          "output_type": "execute_result",
          "data": {
            "text/plain": [
              "range(0, 20)"
            ]
          },
          "metadata": {},
          "execution_count": 139
        }
      ]
    },
    {
      "cell_type": "code",
      "source": [
        "print(*range(0,20))"
      ],
      "metadata": {
        "colab": {
          "base_uri": "https://localhost:8080/"
        },
        "id": "DJXW_Q8q_3AP",
        "outputId": "2ebcb264-7ac4-4e96-be42-7406bf9e52da"
      },
      "execution_count": null,
      "outputs": [
        {
          "output_type": "stream",
          "name": "stdout",
          "text": [
            "0 1 2 3 4 5 6 7 8 9 10 11 12 13 14 15 16 17 18 19\n"
          ]
        }
      ]
    },
    {
      "cell_type": "code",
      "source": [
        "print(range(0,20))"
      ],
      "metadata": {
        "colab": {
          "base_uri": "https://localhost:8080/"
        },
        "id": "RDuaFCM0ByXy",
        "outputId": "4f8efd4b-1111-49bf-db4c-69c796928a43"
      },
      "execution_count": null,
      "outputs": [
        {
          "output_type": "stream",
          "name": "stdout",
          "text": [
            "range(0, 20)\n"
          ]
        }
      ]
    },
    {
      "cell_type": "code",
      "source": [
        "liste = list(range(0,20))"
      ],
      "metadata": {
        "id": "P9-zAo7a_6ch"
      },
      "execution_count": null,
      "outputs": []
    },
    {
      "cell_type": "code",
      "source": [
        "yol_girisi ="
      ],
      "metadata": {
        "id": "X9XI4Vp7CI5D"
      },
      "execution_count": null,
      "outputs": []
    },
    {
      "cell_type": "code",
      "source": [
        "liste"
      ],
      "metadata": {
        "colab": {
          "base_uri": "https://localhost:8080/"
        },
        "id": "k70s7ceIAFFX",
        "outputId": "c6431cd9-f392-4dd4-a4b2-1f3afd73b986"
      },
      "execution_count": null,
      "outputs": [
        {
          "output_type": "execute_result",
          "data": {
            "text/plain": [
              "[0, 1, 2, 3, 4, 5, 6, 7, 8, 9, 10, 11, 12, 13, 14, 15, 16, 17, 18, 19]"
            ]
          },
          "metadata": {},
          "execution_count": 142
        }
      ]
    },
    {
      "cell_type": "code",
      "source": [
        "print(*range(20))"
      ],
      "metadata": {
        "colab": {
          "base_uri": "https://localhost:8080/"
        },
        "id": "EE9aqpO2AFpz",
        "outputId": "ee40dd10-bfee-4845-8848-8a73bb1efe05"
      },
      "execution_count": null,
      "outputs": [
        {
          "output_type": "stream",
          "name": "stdout",
          "text": [
            "0 1 2 3 4 5 6 7 8 9 10 11 12 13 14 15 16 17 18 19\n"
          ]
        }
      ]
    },
    {
      "cell_type": "code",
      "source": [
        "print(*range(5,20))"
      ],
      "metadata": {
        "colab": {
          "base_uri": "https://localhost:8080/"
        },
        "id": "H1vXBf9aAMYK",
        "outputId": "0935ee3d-446c-471f-f4b4-0b97a8d27a3c"
      },
      "execution_count": null,
      "outputs": [
        {
          "output_type": "stream",
          "name": "stdout",
          "text": [
            "5 6 7 8 9 10 11 12 13 14 15 16 17 18 19\n"
          ]
        }
      ]
    },
    {
      "cell_type": "code",
      "source": [
        "print(*range(8,20,2))"
      ],
      "metadata": {
        "colab": {
          "base_uri": "https://localhost:8080/"
        },
        "id": "d-wX5RVjAPNK",
        "outputId": "f0154b12-c2f1-4c74-e681-43988d97359e"
      },
      "execution_count": null,
      "outputs": [
        {
          "output_type": "stream",
          "name": "stdout",
          "text": [
            "8 10 12 14 16 18\n"
          ]
        }
      ]
    },
    {
      "cell_type": "code",
      "source": [
        "print(*range(20,0,-1))"
      ],
      "metadata": {
        "colab": {
          "base_uri": "https://localhost:8080/"
        },
        "id": "AWQHl8ERAVGw",
        "outputId": "fa03be60-1ed3-448a-d037-748a219398de"
      },
      "execution_count": null,
      "outputs": [
        {
          "output_type": "stream",
          "name": "stdout",
          "text": [
            "20 19 18 17 16 15 14 13 12 11 10 9 8 7 6 5 4 3 2 1\n"
          ]
        }
      ]
    },
    {
      "cell_type": "code",
      "source": [
        "for sayi in range(0,10):\n",
        "  print(sayi)"
      ],
      "metadata": {
        "colab": {
          "base_uri": "https://localhost:8080/"
        },
        "id": "QljLxPxHAiwM",
        "outputId": "286aa92f-52cd-4f96-a973-70aa47332a08"
      },
      "execution_count": null,
      "outputs": [
        {
          "output_type": "stream",
          "name": "stdout",
          "text": [
            "0\n",
            "1\n",
            "2\n",
            "3\n",
            "4\n",
            "5\n",
            "6\n",
            "7\n",
            "8\n",
            "9\n"
          ]
        }
      ]
    },
    {
      "cell_type": "code",
      "source": [
        "liste_new = [1,2,34,5,6,7,9]\n",
        "for i in liste_new:\n",
        "  print(i)"
      ],
      "metadata": {
        "colab": {
          "base_uri": "https://localhost:8080/"
        },
        "id": "MAEg_gWQAnVf",
        "outputId": "50ea9d57-e152-4aac-c948-515df62ef858"
      },
      "execution_count": null,
      "outputs": [
        {
          "output_type": "stream",
          "name": "stdout",
          "text": [
            "1\n",
            "2\n",
            "34\n",
            "5\n",
            "6\n",
            "7\n",
            "9\n"
          ]
        }
      ]
    },
    {
      "cell_type": "code",
      "source": [
        "len(liste_new)"
      ],
      "metadata": {
        "colab": {
          "base_uri": "https://localhost:8080/"
        },
        "id": "Xk-pybugA4MW",
        "outputId": "fd6c601a-ec0c-4403-afc5-79b1453d2089"
      },
      "execution_count": null,
      "outputs": [
        {
          "output_type": "execute_result",
          "data": {
            "text/plain": [
              "7"
            ]
          },
          "metadata": {},
          "execution_count": 151
        }
      ]
    },
    {
      "cell_type": "code",
      "source": [
        "for i in range(len(liste_new)):\n",
        "  if i==3:\n",
        "    print(liste_new[i])"
      ],
      "metadata": {
        "colab": {
          "base_uri": "https://localhost:8080/"
        },
        "id": "goISsXm6AsyO",
        "outputId": "a0651c39-b654-4731-f748-d448a1cabb47"
      },
      "execution_count": null,
      "outputs": [
        {
          "output_type": "stream",
          "name": "stdout",
          "text": [
            "5\n"
          ]
        }
      ]
    },
    {
      "cell_type": "code",
      "source": [
        "* 1\n",
        "** 2\n",
        "*** 3\n",
        "**** 4\n",
        "\n",
        "\n",
        "\n",
        "\n",
        "\n",
        "\n",
        "*********** 20"
      ],
      "metadata": {
        "id": "Q3ve5ZeSA6UV"
      },
      "execution_count": null,
      "outputs": []
    },
    {
      "cell_type": "code",
      "source": [
        "for i in range(0,21):\n",
        "  print(\"*\"*i)"
      ],
      "metadata": {
        "colab": {
          "base_uri": "https://localhost:8080/"
        },
        "id": "S4oUf5PKBNtK",
        "outputId": "042fd8ae-41a5-44fc-9ddd-1440da1abb60"
      },
      "execution_count": null,
      "outputs": [
        {
          "output_type": "stream",
          "name": "stdout",
          "text": [
            "\n",
            "*\n",
            "**\n",
            "***\n",
            "****\n",
            "*****\n",
            "******\n",
            "*******\n",
            "********\n",
            "*********\n",
            "**********\n",
            "***********\n",
            "************\n",
            "*************\n",
            "**************\n",
            "***************\n",
            "****************\n",
            "*****************\n",
            "******************\n",
            "*******************\n",
            "********************\n"
          ]
        }
      ]
    }
  ]
}
